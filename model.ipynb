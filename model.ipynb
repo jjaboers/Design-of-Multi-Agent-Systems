{
 "cells": [
  {
   "cell_type": "code",
   "execution_count": 1,
   "metadata": {},
   "outputs": [],
   "source": [
    "import mesa\n",
    "import matplotlib.pyplot as plt\n",
    "import numpy as np\n",
    "import random\n",
    "\n",
    "from mesa.time import RandomActivation"
   ]
  },
  {
   "cell_type": "code",
   "execution_count": null,
   "metadata": {},
   "outputs": [],
   "source": [
    "class FoodAgent(mesa.Agent):\n",
    "    \"\"\" Agent representing the resource items \"\"\"\n",
    "    def __init__(self, unique_id, model):\n",
    "        super().__init__(unique_id, model)\n",
    "        self.position = (0,0)\n",
    "        self.enery_value = 2 # called Er in paper\n",
    "        self.regrowth = None # random timepoint in a year where they regrow\n",
    "    \n",
    "    def set_position(self, width, height):\n",
    "        self.position = (width, height)"
   ]
  },
  {
   "cell_type": "code",
   "execution_count": 2,
   "metadata": {},
   "outputs": [],
   "source": [
    "class PreyAgent(mesa.Agent):\n",
    "    \"\"\"An agent that is a prey, as described in the paper.\"\"\"\n",
    "\n",
    "    def __init__(self, unique_id, model):\n",
    "        super().__init__(unique_id, model)\n",
    "        # non-evolvable parameters\n",
    "        self.age = 0\n",
    "        self.energy = 100000 # TODO what energy level do they start with?\n",
    "        self.position = (0,0) # TODO make this randomised\n",
    "        self.df = 2 # search radius of forager, TODO find initial value\n",
    "        self.af = 270 # search angle, angle between food and forward direction\n",
    "        self.tf = 3 # foodscan duration, TODO find initial value\n",
    "        self.food_target = None\n",
    "        self.zl = 50 # alignment zone\n",
    "        self.dr = 0.9 # individual reach\n",
    "        self.max_speed = 0.1\n",
    "        self.max_neighbour_awareness = 50 # meters\n",
    "        self.h = 5 # half-max distance detect predator\n",
    "        self.N = 5 # scaling for predator detection\n",
    "        self.em = 1 # metabolism \n",
    "        self.min_energy = 0 \n",
    "        self.max_energy = 100000 # called eM in paper\n",
    "        self.death_rate = 0.1\n",
    "        self.max_age = 60*24*365*20 # 20 years expressed in minutes\n",
    "        self.mutation_rate = 0.05\n",
    "        self.is_safe = False\n",
    "        self.waiting_time = 0 # TODO find initial value\n",
    "\n",
    "        # evolvable parameters\n",
    "        self.zr = 20 # repulsion zone, affected by evolution, TODO set it to random value between 0 and 50, sd = 10\n",
    "        self.za = 30 # attractrion zone, affected by evoluiton, TODO set it to random value between self.zr and 50, sd = 10\n",
    "        self.aa = 72 # maximum turning angle for attraction TODO set between 0 and 360, sd = 72\n",
    "        self.ar = 72 # maximum turning angle for repulsion TODO set between 0 and 360, sd = 72\n",
    " \n",
    "    def step(self):\n",
    "        self.age = self.age + 1\n",
    "        self.energy = self.energy - self.em\n",
    "\n",
    "        # Waiting time\n",
    "        if self.is_safe == True:\n",
    "            self.waiting_time = self.waiting_time - 1\n",
    "        if self.waiting_time == 0:\n",
    "            self.is_safe = False\n",
    "        \n",
    "        # Reproduction\n",
    "        if self.model.num_prey_agents > 10 and self.energy >= self.eM:\n",
    "            self.energy = self.energy - self.max_energy / 2\n",
    "            a = PreyAgent(self.num_prey_agents + 1, self)\n",
    "            self.num_prey_agents = self.num_prey_agents + 1\n",
    "            a.set_energy(self.max_energy / 2)\n",
    "            # TODO offspring inherit all evolvable parameters + mutate, maybe make functions inherit() and evolve()\n",
    "        if self.model.num_prey_agents < 10:\n",
    "            # TODO choose random parent, force birth with no energy cost\n",
    "\n",
    "\n",
    "    def move(self):\n",
    "        possible_steps = self.model.grid.get_neighborhood(\n",
    "            self.pos,\n",
    "            moore=True,\n",
    "            include_center=False)\n",
    "        new_position = self.random.choice(possible_steps)\n",
    "        self.model.grid.move_agent(self, new_position)\n",
    "\n",
    "    def distance(self, fooditem):\n",
    "        # calculates distance between self and food item\n",
    "    \n",
    "    # get new food target or not\n",
    "    def foodscan(self):\n",
    "        chosenitem = 100000\n",
    "        \n",
    "        # find all fooditems in range\n",
    "        for fooditem in range(len(self.model.fooditems)):\n",
    "            p = (self.tf * 60) / (np.pi * pow(self.df,2) * (self.af/np.pi) ) # we assume this function represents the vision\n",
    "            RAND = random.random()\n",
    "            if RAND < p:\n",
    "                if distance(self, fooditem) < chosenitem:\n",
    "                    chosenitem = fooditem\n",
    "        \n",
    "        return chosenitem\n",
    "    \n",
    "    def move_to_food(self):\n",
    "        ...\n",
    "    \n",
    "    def eat(self):\n",
    "        ...\n",
    "    \n",
    "    def scan(self):\n",
    "        ...\n",
    "    \n",
    "    def flee(self):\n",
    "        ...\n",
    "\n",
    "    def set_energy(new_energy):\n",
    "        self.energy = new_energy\n",
    "\n"
   ]
  },
  {
   "cell_type": "code",
   "execution_count": 3,
   "metadata": {},
   "outputs": [],
   "source": [
    "class Model(mesa.Model):\n",
    "    \"\"\"A model with some number of agents.\"\"\"\n",
    "\n",
    "    def __init__(self, N, width, height):\n",
    "        self.num_prey_agents = N\n",
    "        self.num_resources = width * height * 0.535 # probability found in paper\n",
    "        self.grid = mesa.space.MultiGrid(width, height, True)\n",
    "        self.schedule = RandomActivation(self)\n",
    "        self.fooditems = []\n",
    "\n",
    "        # Place food items\n",
    "        for resource in range(self.num_resources):\n",
    "            a = FoodAgent(resource, self)\n",
    "            cell = mesa.find_empty()\n",
    "            mesa.place_agent(a, cell)\n",
    "            # TODO change position field of food item to the position of cell\n",
    "\n",
    "        # Create prey agents\n",
    "        for i in range(self.num_agents):\n",
    "            a = PreyAgent(i, self)\n",
    "            self.schedule.add(a)\n",
    "\n",
    "            # Add the agent to a random grid cell\n",
    "            x = self.random.randrange(self.grid.width)\n",
    "            y = self.random.randrange(self.grid.height)\n",
    "            self.grid.place_agent(a, (x, y))\n",
    "\n",
    "    def step(self):\n",
    "        \"\"\"Advance the model by one step.\"\"\"\n",
    "        self.schedule.step() # model shuffles the order of the agents, then activates and executes each agent’s step method"
   ]
  },
  {
   "cell_type": "code",
   "execution_count": 4,
   "metadata": {},
   "outputs": [],
   "source": [
    "model = Model(50, 10, 10)\n",
    "for i in range(20):\n",
    "    model.step()"
   ]
  },
  {
   "cell_type": "code",
   "execution_count": 5,
   "metadata": {},
   "outputs": [
    {
     "data": {
      "text/plain": [
       "<matplotlib.colorbar.Colorbar at 0x7f8a7ea83460>"
      ]
     },
     "execution_count": 5,
     "metadata": {},
     "output_type": "execute_result"
    },
    {
     "data": {
      "image/png": "[encoded data removed]",
      "text/plain": [
       "<Figure size 432x288 with 2 Axes>"
      ]
     },
     "metadata": {
      "needs_background": "light"
     },
     "output_type": "display_data"
    }
   ],
   "source": [
    "agent_counts = np.zeros((model.grid.width, model.grid.height))\n",
    "for cell in model.grid.coord_iter():\n",
    "    cell_content, x, y = cell\n",
    "    agent_count = len(cell_content)\n",
    "    agent_counts[x][y] = agent_count\n",
    "plt.imshow(agent_counts, interpolation=\"nearest\")\n",
    "plt.colorbar()\n"
   ]
  },
  {
   "cell_type": "code",
   "execution_count": 6,
   "metadata": {},
   "outputs": [
    {
     "ename": "TypeError",
     "evalue": "__init__() missing 2 required positional arguments: 'width' and 'height'",
     "output_type": "error",
     "traceback": [
      "\u001b[0;31m---------------------------------------------------------------------------\u001b[0m",
      "\u001b[0;31mTypeError\u001b[0m                                 Traceback (most recent call last)",
      "\u001b[0;32m<ipython-input-6-635975fc589e>\u001b[0m in \u001b[0;36m<module>\u001b[0;34m\u001b[0m\n\u001b[1;32m      3\u001b[0m \u001b[0;32mfor\u001b[0m \u001b[0mj\u001b[0m \u001b[0;32min\u001b[0m \u001b[0mrange\u001b[0m\u001b[0;34m(\u001b[0m\u001b[0;36m100\u001b[0m\u001b[0;34m)\u001b[0m\u001b[0;34m:\u001b[0m\u001b[0;34m\u001b[0m\u001b[0;34m\u001b[0m\u001b[0m\n\u001b[1;32m      4\u001b[0m     \u001b[0;31m# Run the model\u001b[0m\u001b[0;34m\u001b[0m\u001b[0;34m\u001b[0m\u001b[0;34m\u001b[0m\u001b[0m\n\u001b[0;32m----> 5\u001b[0;31m     \u001b[0mmodel\u001b[0m \u001b[0;34m=\u001b[0m \u001b[0mMoneyModel\u001b[0m\u001b[0;34m(\u001b[0m\u001b[0;36m10\u001b[0m\u001b[0;34m)\u001b[0m\u001b[0;34m\u001b[0m\u001b[0;34m\u001b[0m\u001b[0m\n\u001b[0m\u001b[1;32m      6\u001b[0m     \u001b[0;32mfor\u001b[0m \u001b[0mi\u001b[0m \u001b[0;32min\u001b[0m \u001b[0mrange\u001b[0m\u001b[0;34m(\u001b[0m\u001b[0;36m10\u001b[0m\u001b[0;34m)\u001b[0m\u001b[0;34m:\u001b[0m\u001b[0;34m\u001b[0m\u001b[0;34m\u001b[0m\u001b[0m\n\u001b[1;32m      7\u001b[0m         \u001b[0mmodel\u001b[0m\u001b[0;34m.\u001b[0m\u001b[0mstep\u001b[0m\u001b[0;34m(\u001b[0m\u001b[0;34m)\u001b[0m\u001b[0;34m\u001b[0m\u001b[0;34m\u001b[0m\u001b[0m\n",
      "\u001b[0;31mTypeError\u001b[0m: __init__() missing 2 required positional arguments: 'width' and 'height'"
     ]
    }
   ],
   "source": [
    "all_wealth = []\n",
    "# This runs the model 100 times, each model executing 10 steps.\n",
    "for j in range(100):\n",
    "    # Run the model\n",
    "    model = MoneyModel(10)\n",
    "    for i in range(10):\n",
    "        model.step()\n",
    "\n",
    "    # Store the results\n",
    "    for agent in model.schedule.agents:\n",
    "        all_wealth.append(agent.wealth)\n",
    "\n",
    "plt.hist(all_wealth, bins=range(max(all_wealth) + 1))\n",
    "\n",
    "# y axis: number of agents\n",
    "# x axis: wealth\n",
    "# So each bin contains the number of agents with a certain wealth\n",
    "# So 421 agents have 1 wealth, 320 agents have 2 wealth, etc"
   ]
  }
 ],
 "metadata": {
  "kernelspec": {
   "display_name": "Python 3.8.6 64-bit",
   "language": "python",
   "name": "python3"
  },
  "language_info": {
   "codemirror_mode": {
    "name": "ipython",
    "version": 3
   },
   "file_extension": ".py",
   "mimetype": "text/x-python",
   "name": "python",
   "nbconvert_exporter": "python",
   "pygments_lexer": "ipython3",
   "version": "3.8.6"
  },
  "orig_nbformat": 4,
  "vscode": {
   "interpreter": {
    "hash": "082e9a3bcad0a290d0001e938aa60b99250c6c2ef33a923c00b70f9826caf4b7"
   }
  }
 },
 "nbformat": 4,
 "nbformat_minor": 2
}
